{
 "cells": [
  {
   "cell_type": "code",
   "execution_count": 2,
   "id": "21908220",
   "metadata": {},
   "outputs": [],
   "source": [
    "import pandas as pd\n",
    "from sklearn.model_selection import train_test_split\n",
    "import numpy as np\n",
    "\n",
    "data = \"data_final.csv\"\n",
    "separator = \",\"\n",
    "label_column = \"ES\"\n",
    "test_ratio = 0.3\n",
    "usage_ratio = 0.7\n",
    "junk_column = [\"EI\",\"EP\",\"data_type\"]\n",
    "default_value = 0\n",
    "rng = 27"
   ]
  },
  {
   "cell_type": "code",
   "execution_count": 3,
   "id": "1e119a8e",
   "metadata": {},
   "outputs": [
    {
     "name": "stdout",
     "output_type": "stream",
     "text": [
      "Data processed successfully!\n"
     ]
    },
    {
     "name": "stderr",
     "output_type": "stream",
     "text": [
      "C:\\Users\\ade.kemala\\AppData\\Local\\Temp\\ipykernel_16096\\3346198792.py:27: FutureWarning: DataFrameGroupBy.apply operated on the grouping columns. This behavior is deprecated, and in a future version of pandas the grouping columns will be excluded from the operation. Either pass `include_groups=False` to exclude the groupings or explicitly select the grouping columns after groupby to silence this warning.\n",
      "  usage_assignments = solution_df.groupby(label_column, group_keys=False).apply(lambda x: np.random.choice(['Private'] * int(len(x) * usage_ratio) + ['Public'] * (len(x) - int(len(x) * usage_ratio)), size=len(x), replace=False))\n"
     ]
    }
   ],
   "source": [
    "# Load data.csv with header\n",
    "df = pd.read_csv(data,delimiter=separator)\n",
    "\n",
    "if junk_column != \"\":\n",
    "    # Drop the \"junk_column\" column\n",
    "    for junk in junk_column:\n",
    "      df = df.drop(columns=[junk])\n",
    "\n",
    "\n",
    "# Perform stratified split\n",
    "train_df, test_df = train_test_split(df, test_size=test_ratio, stratify=df[label_column], random_state=rng)\n",
    "\n",
    "train_df = train_df.reset_index(drop=True)\n",
    "test_df = test_df.reset_index(drop=True)\n",
    "\n",
    "# Keep only the \"label\" column\n",
    "solution_df = test_df[[label_column]].copy()\n",
    "\n",
    "#Creating sample submission\n",
    "sample_df = solution_df.copy()\n",
    "sample_df[label_column] = default_value\n",
    "\n",
    "# Add a new column called \"Usage\"\n",
    "solution_df['Usage'] = ''\n",
    "\n",
    "# Perform stratified assignment of 'Usage' based on 'Credit_Score'\n",
    "usage_assignments = solution_df.groupby(label_column, group_keys=False).apply(lambda x: np.random.choice(['Private'] * int(len(x) * usage_ratio) + ['Public'] * (len(x) - int(len(x) * usage_ratio)), size=len(x), replace=False))\n",
    "\n",
    "# Flatten the resulting Series of arrays and assign to the 'Usage' column\n",
    "solution_df['Usage'] = np.concatenate(usage_assignments.values)\n",
    "\n",
    "# Delete the target columns\n",
    "test_df = test_df.drop(columns=[label_column])\n",
    "\n",
    "\n",
    "# Save the dataframes to CSV files with index\n",
    "train_df.to_csv('train.csv', index=True, index_label=\"id\")\n",
    "test_df.to_csv('test.csv', index=True, index_label=\"id\")\n",
    "solution_df.to_csv('solution.csv', index=True, index_label=\"id\")\n",
    "sample_df.to_csv('sample_submission.csv', index=True, index_label=\"id\")\n",
    "\n",
    "print(\"Data processed successfully!\")"
   ]
  },
  {
   "cell_type": "code",
   "execution_count": null,
   "id": "a27b0648",
   "metadata": {},
   "outputs": [],
   "source": []
  }
 ],
 "metadata": {
  "kernelspec": {
   "display_name": ".venv",
   "language": "python",
   "name": "python3"
  },
  "language_info": {
   "codemirror_mode": {
    "name": "ipython",
    "version": 3
   },
   "file_extension": ".py",
   "mimetype": "text/x-python",
   "name": "python",
   "nbconvert_exporter": "python",
   "pygments_lexer": "ipython3",
   "version": "3.12.7"
  }
 },
 "nbformat": 4,
 "nbformat_minor": 5
}
